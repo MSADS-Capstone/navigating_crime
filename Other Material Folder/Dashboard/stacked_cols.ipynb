{
 "cells": [
  {
   "cell_type": "markdown",
   "metadata": {
    "id": "2wrQHvdptIM1"
   },
   "source": [
    "# Bar Charts for Dash Plotly"
   ]
  },
  {
   "cell_type": "code",
   "execution_count": 1,
   "metadata": {
    "colab": {
     "base_uri": "https://localhost:8080/"
    },
    "executionInfo": {
     "elapsed": 1705,
     "status": "ok",
     "timestamp": 1658613768173,
     "user": {
      "displayName": "Leonid Shpaner",
      "userId": "10226027130831758558"
     },
     "user_tz": 420
    },
    "id": "MC6w_sr7erj_",
    "outputId": "b9f214ec-da33-4997-ccc7-fcebd26b3f29"
   },
   "outputs": [],
   "source": [
    "####################################\n",
    "## import the requisite libraries ##\n",
    "####################################\n",
    "import os\n",
    "import csv\n",
    "import pandas as pd\n",
    "import numpy as np\n",
    "\n",
    "# plotting libraries\n",
    "import matplotlib.pyplot as plt\n",
    "import seaborn as sns"
   ]
  },
  {
   "cell_type": "code",
   "execution_count": 2,
   "metadata": {
    "colab": {
     "base_uri": "https://localhost:8080/",
     "height": 35
    },
    "executionInfo": {
     "elapsed": 321,
     "status": "ok",
     "timestamp": 1658613768485,
     "user": {
      "displayName": "Leonid Shpaner",
      "userId": "10226027130831758558"
     },
     "user_tz": 420
    },
    "id": "s_fQsmPYeuyE",
    "outputId": "cdb3a79f-6870-4b1d-f062-336390131a21"
   },
   "outputs": [
    {
     "data": {
      "text/plain": [
       "'g:\\\\Shared drives\\\\Capstone - Best Group\\\\Dashboard'"
      ]
     },
     "execution_count": 2,
     "metadata": {},
     "output_type": "execute_result"
    }
   ],
   "source": [
    "# check current working directory\n",
    "current_directory = os.getcwd()\n",
    "current_directory"
   ]
  },
  {
   "cell_type": "markdown",
   "metadata": {
    "id": "e29UeHnqpGv3"
   },
   "source": [
    "### Assign Paths to Folders"
   ]
  },
  {
   "cell_type": "code",
   "execution_count": 3,
   "metadata": {},
   "outputs": [
    {
     "data": {
      "text/plain": [
       "'G:/Shared drives/Capstone - Best Group/Final_Data_20220719/df.csv'"
      ]
     },
     "execution_count": 3,
     "metadata": {},
     "output_type": "execute_result"
    }
   ],
   "source": [
    "# path to the data file\n",
    "data_frame = 'G:/Shared drives/Capstone - Best Group/' \\\n",
    "           + 'Final_Data_20220719/df.csv'\n",
    "data_frame"
   ]
  },
  {
   "cell_type": "code",
   "execution_count": 4,
   "metadata": {},
   "outputs": [],
   "source": [
    "# bring in original dataframe as preprocessed in the \n",
    "# data_preparation.ipynb file\n",
    "df = pd.read_csv(data_frame, low_memory=False).set_index('OBJECTID')"
   ]
  },
  {
   "cell_type": "code",
   "execution_count": 5,
   "metadata": {},
   "outputs": [
    {
     "name": "stdout",
     "output_type": "stream",
     "text": [
      " There are 183151 and 125 columns in the dataframe.\n"
     ]
    }
   ],
   "source": [
    "# re-inspect the shape of the dataframe. \n",
    "print(' There are', df.shape[0], 'and', df.shape[1], 'columns in the dataframe.')"
   ]
  },
  {
   "cell_type": "code",
   "execution_count": 6,
   "metadata": {},
   "outputs": [],
   "source": [
    "options = {'age_bin': 'Age bin',  'Type': 'Type', 'Victim_Sex': 'Victim Sex', \n",
    "           'Victim_Desc': 'Victim Descent', 'Time_of_Day': 'Time of Day', \n",
    "           'Month': 'Month', 'AREA_NAME': 'Area Name', 'Premises': 'Premises'}"
   ]
  },
  {
   "cell_type": "code",
   "execution_count": 7,
   "metadata": {},
   "outputs": [],
   "source": [
    "res = {}\n",
    "for col in options:\n",
    "    df_stack=df.groupby([col,'crime_severity']).size().reset_index()\n",
    "    df_stack['Percentage']=df.groupby([col,'crime_severity']).size().groupby(level=0).apply(lambda \n",
    "            x:100 * x/float(x.sum())).values\n",
    "    df_stack.columns= [col,'crime_severity', 'Counts', 'Percentage']\n",
    "    res[col] = df_stack"
   ]
  },
  {
   "cell_type": "code",
   "execution_count": 8,
   "metadata": {},
   "outputs": [],
   "source": [
    "import pickle\n",
    "with open(r'G:\\Shared drives\\Capstone - Best Group\\Dashboard\\freq_cols.pkl', 'wb') as f:\n",
    "    pickle.dump(res, f)"
   ]
  }
 ],
 "metadata": {
  "colab": {
   "collapsed_sections": [],
   "name": "modeling.ipynb",
   "provenance": []
  },
  "kernelspec": {
   "display_name": "Python 3.8.3 ('base')",
   "language": "python",
   "name": "python3"
  },
  "language_info": {
   "codemirror_mode": {
    "name": "ipython",
    "version": 3
   },
   "file_extension": ".py",
   "mimetype": "text/x-python",
   "name": "python",
   "nbconvert_exporter": "python",
   "pygments_lexer": "ipython3",
   "version": "3.8.3"
  },
  "vscode": {
   "interpreter": {
    "hash": "b61bb2d7a674932f79ec86662a4165aa288473e6e47a51dc8e3ab9a9cd94608c"
   }
  }
 },
 "nbformat": 4,
 "nbformat_minor": 4
}
